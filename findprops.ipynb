{
 "cells": [
  {
   "cell_type": "code",
   "execution_count": 1,
   "metadata": {},
   "outputs": [],
   "source": [
    "#set up credentials + imports\n",
    "from office365.runtime.auth.user_credential import UserCredential\n",
    "from office365.sharepoint.client_context import ClientContext\n",
    "from office365.sharepoint.client_context import ClientContext\n",
    "from office365.sharepoint.files.system_object_type import FileSystemObjectType\n",
    "import os\n",
    "from dotenv import load_dotenv\n",
    "\n",
    "#set up credentials\n",
    "load_dotenv(\".env\", override=True)\n",
    "userCredential = UserCredential(os.getenv('user'),os.getenv('password') )"
   ]
  },
  {
   "cell_type": "code",
   "execution_count": 2,
   "metadata": {},
   "outputs": [],
   "source": [
    "def enum_folder(parent_folder, fn, ctx):\n",
    "    \"\"\"\n",
    "    :type parent_folder: Folder\n",
    "    :type fn: (File)-> None\n",
    "    \"\"\"\n",
    "    parent_folder.expand([\"Files\", \"Folders\"]).get().execute_query()\n",
    "    for file in parent_folder.files:  # type: File\n",
    "        \n",
    "        #download if it is a pdf\n",
    "        url = file.properties['ServerRelativeUrl']\n",
    "        if 'pdf' in url:\n",
    "            fn(file , ctx)\n",
    "            #downloadfile(url, ctx)\n",
    "    for folder in parent_folder.folders:  # type: Folder\n",
    "        enum_folder(folder, fn, ctx)\n",
    "\n",
    "\n",
    "def print_file(f,ctx):\n",
    "    \"\"\"\n",
    "    :type f: File\n",
    "    \"\"\"\n",
    "    print(ctx.base_url+f.properties['ServerRelativeUrl'])\n",
    "\n",
    "def print_props(f):\n",
    "    for p in f.properties:\n",
    "        print(p, f.properties[p])\n"
   ]
  },
  {
   "cell_type": "code",
   "execution_count": 3,
   "metadata": {},
   "outputs": [],
   "source": [
    "def findDocs(target_folder_url, ctx):\n",
    "    root_folder = ctx.web.get_folder_by_server_relative_path(target_folder_url)\n",
    "    enum_folder(root_folder, print_file, ctx)"
   ]
  },
  {
   "cell_type": "code",
   "execution_count": 5,
   "metadata": {},
   "outputs": [],
   "source": [
    "site_url = \"https://hksinc.sharepoint.com/sites/BrainHealth\"\n",
    "\n",
    "ctx = ClientContext(site_url.strip()).with_credentials(userCredential)\n",
    "web = ctx.web\n",
    "ctx.load(web)\n",
    "ctx.execute_query()\n",
    "findDocs(\"Shared Documents\", ctx)"
   ]
  }
 ],
 "metadata": {
  "kernelspec": {
   "display_name": "env",
   "language": "python",
   "name": "python3"
  },
  "language_info": {
   "codemirror_mode": {
    "name": "ipython",
    "version": 3
   },
   "file_extension": ".py",
   "mimetype": "text/x-python",
   "name": "python",
   "nbconvert_exporter": "python",
   "pygments_lexer": "ipython3",
   "version": "3.10.6"
  },
  "orig_nbformat": 4
 },
 "nbformat": 4,
 "nbformat_minor": 2
}
