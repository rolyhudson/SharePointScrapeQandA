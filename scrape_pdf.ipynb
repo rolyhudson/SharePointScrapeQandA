{
 "cells": [
  {
   "cell_type": "code",
   "execution_count": 1,
   "metadata": {},
   "outputs": [],
   "source": [
    "#set up credentials + imports\n",
    "from office365.runtime.auth.user_credential import UserCredential\n",
    "from office365.sharepoint.client_context import ClientContext\n",
    "from office365.sharepoint.client_context import ClientContext\n",
    "from office365.sharepoint.files.system_object_type import FileSystemObjectType\n",
    "import os\n",
    "from dotenv import load_dotenv\n",
    "\n",
    "#set up credentials\n",
    "load_dotenv(\".env\", override=True)\n",
    "userCredential = UserCredential(os.getenv('user'),os.getenv('password') )"
   ]
  },
  {
   "cell_type": "code",
   "execution_count": 2,
   "metadata": {},
   "outputs": [],
   "source": [
    "#checking the process on the base url and relative url\n",
    "site_url = \"https://hksinc.sharepoint.com/sites/SpatialAnalyticsModule\"\n",
    "ctx = ClientContext(site_url).with_credentials(userCredential)\n",
    "web = ctx.web\n",
    "ctx.load(web)\n",
    "ctx.execute_query()"
   ]
  },
  {
   "cell_type": "code",
   "execution_count": 8,
   "metadata": {},
   "outputs": [],
   "source": [
    "def downloadfile(file_url):\n",
    "    # Create a directory to store the text files\n",
    "    if not os.path.exists(\"pdf/\"):\n",
    "            os.mkdir(\"pdf/\")\n",
    "\n",
    "    if not os.path.exists(\"pdf/hksinc.sharepoint.com/\"):\n",
    "            os.mkdir(\"pdf/hksinc.sharepoint.com/\")\n",
    "\n",
    "    download_path = os.path.join(\"pdf/hksinc.sharepoint.com\", os.path.basename(file_url))\n",
    "    with open(download_path, \"wb\") as local_file:\n",
    "        file = ctx.web.get_file_by_server_relative_url(file_url).download(local_file).execute_query()\n",
    "        #file = ctx.web.get_file_by_server_relative_url(file_url).read()\n",
    "    print(\"[Ok] file has been downloaded into: {0}\".format(download_path))"
   ]
  },
  {
   "cell_type": "code",
   "execution_count": 9,
   "metadata": {},
   "outputs": [
    {
     "name": "stdout",
     "output_type": "stream",
     "text": [
      "(File): /sites/SpatialAnalyticsModule/Shared Documents/02_PhotoEssay_On-Site Documentation_Example.pdf\n"
     ]
    },
    {
     "ename": "ValueError",
     "evalue": "",
     "output_type": "error",
     "traceback": [
      "\u001b[1;31m---------------------------------------------------------------------------\u001b[0m",
      "\u001b[1;31mValueError\u001b[0m                                Traceback (most recent call last)",
      "Cell \u001b[1;32mIn[9], line 11\u001b[0m\n\u001b[0;32m      9\u001b[0m \u001b[39mif\u001b[39;00m(\u001b[39m\"\u001b[39m\u001b[39mpdf\u001b[39m\u001b[39m\"\u001b[39m \u001b[39min\u001b[39;00m item\u001b[39m.\u001b[39mfile\u001b[39m.\u001b[39mserverRelativeUrl):\n\u001b[0;32m     10\u001b[0m     \u001b[39mprint\u001b[39m(\u001b[39m\"\u001b[39m\u001b[39m(File): \u001b[39m\u001b[39m{0}\u001b[39;00m\u001b[39m\"\u001b[39m\u001b[39m.\u001b[39mformat(item\u001b[39m.\u001b[39mfile\u001b[39m.\u001b[39mserverRelativeUrl))\n\u001b[1;32m---> 11\u001b[0m     downloadfile(item\u001b[39m.\u001b[39;49mfile\u001b[39m.\u001b[39;49mserverRelativeUrl)\n",
      "Cell \u001b[1;32mIn[8], line 12\u001b[0m, in \u001b[0;36mdownloadfile\u001b[1;34m(file_url)\u001b[0m\n\u001b[0;32m      9\u001b[0m download_path \u001b[39m=\u001b[39m os\u001b[39m.\u001b[39mpath\u001b[39m.\u001b[39mjoin(\u001b[39m\"\u001b[39m\u001b[39mpdf/hksinc.sharepoint.com\u001b[39m\u001b[39m\"\u001b[39m, os\u001b[39m.\u001b[39mpath\u001b[39m.\u001b[39mbasename(file_url))\n\u001b[0;32m     10\u001b[0m \u001b[39mwith\u001b[39;00m \u001b[39mopen\u001b[39m(download_path, \u001b[39m\"\u001b[39m\u001b[39mwb\u001b[39m\u001b[39m\"\u001b[39m) \u001b[39mas\u001b[39;00m local_file:\n\u001b[0;32m     11\u001b[0m     \u001b[39m#file = ctx.web.get_file_by_server_relative_url(file_url).download(local_file).execute_query()\u001b[39;00m\n\u001b[1;32m---> 12\u001b[0m     file \u001b[39m=\u001b[39m ctx\u001b[39m.\u001b[39;49mweb\u001b[39m.\u001b[39;49mget_file_by_server_relative_url(file_url)\u001b[39m.\u001b[39;49mread()\n\u001b[0;32m     13\u001b[0m \u001b[39mprint\u001b[39m(\u001b[39m\"\u001b[39m\u001b[39m[Ok] file has been downloaded into: \u001b[39m\u001b[39m{0}\u001b[39;00m\u001b[39m\"\u001b[39m\u001b[39m.\u001b[39mformat(download_path))\n",
      "File \u001b[1;32mc:\\Users\\rhudson\\source\\repos\\sharescrape\\env\\lib\\site-packages\\office365\\sharepoint\\files\\file.py:28\u001b[0m, in \u001b[0;36mAbstractFile.read\u001b[1;34m(self)\u001b[0m\n\u001b[0;32m     26\u001b[0m \u001b[39m\u001b[39m\u001b[39m\"\"\"Immediately read content of file\"\"\"\u001b[39;00m\n\u001b[0;32m     27\u001b[0m \u001b[39mif\u001b[39;00m \u001b[39mnot\u001b[39;00m \u001b[39mself\u001b[39m\u001b[39m.\u001b[39mis_property_available(\u001b[39m\"\u001b[39m\u001b[39mServerRelativeUrl\u001b[39m\u001b[39m\"\u001b[39m):\n\u001b[1;32m---> 28\u001b[0m     \u001b[39mraise\u001b[39;00m \u001b[39mValueError\u001b[39;00m\n\u001b[0;32m     29\u001b[0m response \u001b[39m=\u001b[39m File\u001b[39m.\u001b[39mopen_binary(\n\u001b[0;32m     30\u001b[0m     \u001b[39mself\u001b[39m\u001b[39m.\u001b[39mcontext, \u001b[39mself\u001b[39m\u001b[39m.\u001b[39mproperties[\u001b[39m\"\u001b[39m\u001b[39mServerRelativeUrl\u001b[39m\u001b[39m\"\u001b[39m])\n\u001b[0;32m     31\u001b[0m \u001b[39mreturn\u001b[39;00m response\u001b[39m.\u001b[39mcontent\n",
      "\u001b[1;31mValueError\u001b[0m: "
     ]
    }
   ],
   "source": [
    "#documents on current site url\n",
    "doc_lib = ctx.web.lists.get_by_title(\"Documents\")\n",
    "items = doc_lib.items.select([\"FileSystemObjectType\"]).expand([\"File\", \"Folder\"]).get().execute_query()\n",
    "for item in items:  # type: ListItem\n",
    "    \n",
    "    if item.file_system_object_type == FileSystemObjectType.Folder:\n",
    "        print(\"(Folder): {0}\".format(item.folder.serverRelativeUrl))\n",
    "    else:#pdf only\n",
    "        if(\"pdf\" in item.file.serverRelativeUrl):\n",
    "            print(\"(File): {0}\".format(item.file.serverRelativeUrl))\n",
    "            downloadfile(item.file.serverRelativeUrl)"
   ]
  },
  {
   "cell_type": "code",
   "execution_count": 7,
   "metadata": {},
   "outputs": [
    {
     "name": "stdout",
     "output_type": "stream",
     "text": [
      "2\n",
      "INTERVIEWS  \n",
      " \n",
      "Methodology:  \n",
      "Semi -structured interviews were conducted during the design diagnostic with selected staff who work in \n",
      "the Sengkang Hospital Emergency Department  (ED) . The interviews included multiple open -ended  \n",
      "questions that focused on : 1) design elements in the ED  that support staff work practices (facilitators), 2) \n",
      "design elements in the ED  that hinder staff work practices (barriers), and 3) operational considerations \n",
      "for moving forward.  Each interview was co nducted face to face and lasted between  10 – 15 minutes . \n",
      "Notes were taken during the interviews and later synthesized  to identify  environmental facilitators and \n",
      "barriers  and operational considerations , as well as current state and future state design and o perational \n",
      "recommendations.  \n",
      " Participants:  \n",
      "Facilities Manager  \n",
      "P1 Mid -level Physician  \n",
      "P2 Senior Physician  \n",
      "P2 Junior Staff Nurse  \n",
      " Demographics:  \n",
      "A total of 4  interviews were conducted with staff including facilities management , physicians  and \n",
      "nursing staff from various areas within the emergency department (ED). Participants were recruited to \n",
      "participate in the interviews with support from Sengkang Hospital  ED Leadership. Participant years of \n",
      "clinical experience ranged from 2 months – 10+ years of experience . \n",
      " \n",
      "Results:  \n",
      "Findings from the interviews identified 1 2 unique environmental facilitators that support staff work \n",
      "practices. Through the interviews, 1 1 environmental barriers the hinder staff work practices were also \n",
      "identified. Additionally, one environmental barrier was identified as a potential safety hazard, posing a \n",
      "safety risk to both patients and staff. The interviews also identified three operati onal considerations that \n",
      "could potentially support operational optimization initiatives moving forward. Table 1 contains the environmental facilitators and barriers and the operational considerations  identified by participants, as \n",
      "well as their associated design or operational element.  \n",
      " \n",
      " \n",
      "ENVIRONMENTAL FACILITATORS  \n",
      "Design Element  Description  \n",
      "Overall maintenance  Overall maintenance is easy to conduct, as there are not many breakdowns.  \n",
      "Door mechanisms  Staff like the automatic doors and find them very beneficial when \n",
      "functioning properly.  \n",
      "Central workstation  Size of the central workstation is able to effectively accommodate all staff.  \n",
      "Medication storage  Centralized medication storage within the P1 area allows for easy access to \n",
      "medications for all sta ff. \n",
      "Staff pantry  Staff pantry is well placed within the P1 area to allow for routine breaks \n",
      "during shift.  \n",
      "Imaging  Placement of imaging within the ED allows for easy access to imaging \n",
      "services from every area.  \n"
     ]
    }
   ],
   "source": [
    "# importing required modules\n",
    "from PyPDF2 import PdfReader\n",
    "\n",
    "def read_pdf(file):\n",
    "    # creating a pdf reader object\n",
    "    reader = PdfReader('pdf/hksinc.sharepoint.com/05_Interviews_Documentation Example.pdf')\n",
    "    \n",
    "    # printing number of pages in pdf file\n",
    "    print(len(reader.pages))\n",
    "    \n",
    "    # getting a specific page from the pdf file\n",
    "    page = reader.pages[0]\n",
    "    \n",
    "    # extracting text from page\n",
    "    text = page.extract_text()\n",
    "    print(text)"
   ]
  }
 ],
 "metadata": {
  "kernelspec": {
   "display_name": "env",
   "language": "python",
   "name": "python3"
  },
  "language_info": {
   "codemirror_mode": {
    "name": "ipython",
    "version": 3
   },
   "file_extension": ".py",
   "mimetype": "text/x-python",
   "name": "python",
   "nbconvert_exporter": "python",
   "pygments_lexer": "ipython3",
   "version": "3.10.6"
  },
  "orig_nbformat": 4
 },
 "nbformat": 4,
 "nbformat_minor": 2
}
