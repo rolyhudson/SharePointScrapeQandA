{
 "cells": [
  {
   "cell_type": "code",
   "execution_count": 151,
   "metadata": {},
   "outputs": [
    {
     "name": "stdout",
     "output_type": "stream",
     "text": [
      "216\n",
      "     index icon               title   \n",
      "215    215   CP  Commercial / PLACE  \\\n",
      "\n",
      "                                                   url   \n",
      "215  https://hksinc.sharepoint.com/sites/Commercial...  \\\n",
      "\n",
      "                                           description  \n",
      "215  This Group is for Shanghai Commercial/PLACE me...  \n"
     ]
    }
   ],
   "source": [
    "import pandas\n",
    "\n",
    "#convert the sites into a df\n",
    "sitesdf = pandas.DataFrame(columns=('icon', 'title', 'url', 'description'))\n",
    "f = open(\"hkssites.txt\", \"r\")\n",
    "row = 0\n",
    "icon =\"\"\n",
    "title=\"\"\n",
    "url=\"\"\n",
    "desc=\"\"\n",
    "for x in f:\n",
    "    x =x.strip()\n",
    "    if x == \"\":\n",
    "        continue\n",
    "    if len(x) == 1 or len(x) == 2:\n",
    "        #add previous site and reset\n",
    "        if  title+url != \"\":\n",
    "            sitesdf.loc[row] = [icon,title,url,desc]\n",
    "            row+=1\n",
    "            title=\"\"\n",
    "            url=\"\"\n",
    "        icon=x    \n",
    "    if \"http\" in x:\n",
    "        url = x\n",
    "    if url == \"\":\n",
    "        title =x\n",
    "    else :\n",
    "        desc = x\n",
    "    \n",
    "f.close()\n",
    "sitesdf = sitesdf.reset_index()  # make sure indexes pair with number of rows\n",
    "print(sitesdf.shape[0])\n",
    "print(sitesdf.tail(1))"
   ]
  },
  {
   "cell_type": "code",
   "execution_count": 156,
   "metadata": {},
   "outputs": [],
   "source": [
    "from office365.runtime.auth.user_credential import UserCredential\n",
    "from office365.sharepoint.client_context import ClientContext\n",
    "import os\n",
    "from bs4 import BeautifulSoup\n",
    "from dotenv import load_dotenv\n",
    "\n",
    "load_dotenv(\".env\")\n",
    "userCredential = UserCredential(os.getenv('user'),os.getenv('password') )\n"
   ]
  },
  {
   "cell_type": "code",
   "execution_count": 104,
   "metadata": {},
   "outputs": [],
   "source": [
    "def sitepages(ctx):\n",
    "    #list pages relative to site_url\n",
    "    site_pages = ctx.site_pages.pages.get().execute_query()\n",
    "    # for site_page in site_pages:  # type: SitePage\n",
    "    #     print(site_page.file_name)\n",
    "    print(len(site_pages))\n",
    "    return site_pages"
   ]
  },
  {
   "cell_type": "code",
   "execution_count": 127,
   "metadata": {},
   "outputs": [],
   "source": [
    "def content(ctx, relative_url):\n",
    "    file = ctx.web.get_file_by_server_relative_url(relative_url)\n",
    "    file_item = file.listItemAllFields.select([\"CanvasContent1\", \"LayoutWebpartsContent\"]).get().execute_query()\n",
    "    \n",
    "    #print(content)\n",
    "    return file_item.properties.get(\"CanvasContent1\")"
   ]
  },
  {
   "cell_type": "code",
   "execution_count": 158,
   "metadata": {},
   "outputs": [
    {
     "name": "stdout",
     "output_type": "stream",
     "text": [
      "https://hksinc.sharepoint.com\n",
      "79\n",
      "no content\n"
     ]
    }
   ],
   "source": [
    "\n",
    "\n",
    "# Create a directory to store the text files\n",
    "if not os.path.exists(\"text/\"):\n",
    "        os.mkdir(\"text/\")\n",
    "\n",
    "if not os.path.exists(\"text/hksinc.sharepoint.com/\"):\n",
    "        os.mkdir(\"text/hksinc.sharepoint.com/\")\n",
    "\n",
    "# Create a directory to store the csv files\n",
    "if not os.path.exists(\"processed\"):\n",
    "        os.mkdir(\"processed\")\n",
    "        \n",
    "#iterate sites        \n",
    "for index, row in sitesdf.head(1).iterrows():\n",
    "    site_url = row[\"url\"]\n",
    "    ctx = ClientContext(site_url).with_credentials(userCredential)\n",
    "    web = ctx.web\n",
    "    ctx.load(web)\n",
    "    ctx.execute_query()\n",
    "    print(site_url)\n",
    "    #print(site_url.replace(\"https://hksinc.sharepoint.com\",\"\"))\n",
    "    for page in sitepages(ctx):\n",
    "        relative_url = site_url.replace(\"https://hksinc.sharepoint.com\",\"\")+ \"/SitePages/\"+page.file_name\n",
    "        \n",
    "        #get content for site page\n",
    "        cleanUrl = relative_url.replace(\"/\", \"_\").replace(\"?\", \"_\").replace(\":\", \"_\").replace(\".\", \"_\")\n",
    "        #print(cleanUrl)\n",
    "        try:\n",
    "            t = content(ctx, relative_url)\n",
    "        except:\n",
    "            print(\"no content\")\n",
    "        else:\n",
    "            if t is not None:\n",
    "                soup = BeautifulSoup(t)\n",
    "                    # Get the text but remove the tags\n",
    "                text = soup.get_text()\n",
    "                if text !=\"\":\n",
    "                    with open('text/hksinc.sharepoint.com/'+cleanUrl + \".txt\", \"w\", encoding=\"utf-8\") as f:    \n",
    "                        \n",
    "\n",
    "                        # If the crawler gets to a page that requires JavaScript, it will stop the crawl\n",
    "                        if (\"You need to enable JavaScript to run this app.\" in text):\n",
    "                            print(\"Unable to parse page \" + url + \" due to JavaScript being required\")\n",
    "                        \n",
    "                        # Otherwise, write the text to the file in the text directory\n",
    "                        f.write(text)"
   ]
  },
  {
   "cell_type": "code",
   "execution_count": 143,
   "metadata": {},
   "outputs": [
    {
     "name": "stdout",
     "output_type": "stream",
     "text": [
      "Web title: Source\n",
      "{'Description': 'https://hksinc.sharepoint.com/_layouts/15/getpreview.ashx?guidSite=1d26113b-6e40-4404-814d-038f1605cea0&guidWeb=501cc4e4-f8f8-43a7-9b83-45e8756fa5db&guidFile=1cb893cc-4766-41bc-80a4-22aea687cd9f', 'Url': 'https://hksinc.sharepoint.com/_layouts/15/getpreview.ashx?guidSite=1d26113b-6e40-4404-814d-038f1605cea0&guidWeb=501cc4e4-f8f8-43a7-9b83-45e8756fa5db&guidFile=1cb893cc-4766-41bc-80a4-22aea687cd9f'}\n"
     ]
    }
   ],
   "source": [
    "from office365.runtime.auth.user_credential import UserCredential\n",
    "from office365.sharepoint.client_context import ClientContext\n",
    "site_url = \"https://hksinc.sharepoint.com\"\n",
    "ctx = ClientContext(site_url).with_credentials(userCredential)\n",
    "web = ctx.web\n",
    "ctx.load(web)\n",
    "ctx.execute_query()\n",
    "print(\"Web title: {0}\".format(web.properties['Title'])) \n",
    "\n",
    "file = ctx.web.get_file_by_server_relative_url(\"/SitePages/Breaking-News--Fast-Company-Announces-Project-Connect.aspx\")\n",
    "\n",
    "file_item = file.listItemAllFields.select([\"CanvasContent1\", \"LayoutWebpartsContent\",\"BannerImageUrl\"]).get().execute_query()\n",
    "print(file_item.properties.get(\"BannerImageUrl\"))"
   ]
  },
  {
   "cell_type": "code",
   "execution_count": 115,
   "metadata": {},
   "outputs": [
    {
     "name": "stdout",
     "output_type": "stream",
     "text": [
      "Web title: Spatial Analytics\n",
      "<div><div data-sp-canvascontrol=\"\" data-sp-canvasdataversion=\"1.0\" data-sp-controldata=\"&#123;&quot;controlType&quot;&#58;4,&quot;id&quot;&#58;&quot;9e9bd21c-206b-4b77-981d-06d6e75fb7c7&quot;,&quot;position&quot;&#58;&#123;&quot;layoutIndex&quot;&#58;1,&quot;zoneIndex&quot;&#58;1,&quot;sectionIndex&quot;&#58;1,&quot;controlIndex&quot;&#58;1,&quot;sectionFactor&quot;&#58;12&#125;,&quot;addedFromPersistedData&quot;&#58;true&#125;\"><div data-sp-rte=\"\"><p><span class=\"fontSizeXLarge\"><em>This training module provides a structured way to understand the process, rules of engagement,&#160;required time and budget for applying spatial analytics tools in various project phases – from pre-design to occupancy. The tools presented in this module are part of a larger HKS Research Placed-Based Analytics signature approach of layering human, spatial and environmental data to gain insight in the relationship between patterns of people and&#160;space.</em></span></p></div></div><div data-sp-canvascontrol=\"\" data-sp-canvasdataversion=\"1.0\" data-sp-controldata=\"&#123;&quot;position&quot;&#58;&#123;&quot;layoutIndex&quot;&#58;1,&quot;zoneIndex&quot;&#58;2,&quot;sectionIndex&quot;&#58;1,&quot;controlIndex&quot;&#58;1.5,&quot;sectionFactor&quot;&#58;6&#125;,&quot;controlType&quot;&#58;3,&quot;id&quot;&#58;&quot;b507eafe-5a2c-4960-b7ef-3f274777d0e2&quot;,&quot;webPartId&quot;&#58;&quot;2161a1c6-db61-4731-b97c-3cdb303f7cbb&quot;,&quot;addedFromPersistedData&quot;&#58;true,&quot;reservedHeight&quot;&#58;1,&quot;reservedWidth&quot;&#58;570&#125;\"><div data-sp-webpart=\"\" data-sp-webpartdataversion=\"1.1\" data-sp-webpartdata=\"&#123;&quot;id&quot;&#58;&quot;2161a1c6-db61-4731-b97c-3cdb303f7cbb&quot;,&quot;instanceId&quot;&#58;&quot;b507eafe-5a2c-4960-b7ef-3f274777d0e2&quot;,&quot;title&quot;&#58;&quot;Divider&quot;,&quot;description&quot;&#58;&quot;Add a line to divide areas on your page.&quot;,&quot;audiences&quot;&#58;[],&quot;serverProcessedContent&quot;&#58;&#123;&quot;htmlStrings&quot;&#58;&#123;&#125;,&quot;searchablePlainTexts&quot;&#58;&#123;&#125;,&quot;imageSources&quot;&#58;&#123;&#125;,&quot;links&quot;&#58;&#123;&#125;&#125;,&quot;dataVersion&quot;&#58;&quot;1.1&quot;,&quot;properties&quot;&#58;&#123;&quot;length&quot;&#58;100,&quot;weight&quot;&#58;1&#125;&#125;\"><div data-sp-componentid=\"2161a1c6-db61-4731-b97c-3cdb303f7cbb\"></div><div data-sp-htmlproperties=\"\"></div></div></div><div data-sp-canvascontrol=\"\" data-sp-canvasdataversion=\"1.0\" data-sp-controldata=\"&#123;&quot;controlType&quot;&#58;4,&quot;id&quot;&#58;&quot;9b6a17dd-09be-41a4-88f9-3e780bc752a9&quot;,&quot;position&quot;&#58;&#123;&quot;layoutIndex&quot;&#58;1,&quot;zoneIndex&quot;&#58;2,&quot;sectionIndex&quot;&#58;1,&quot;controlIndex&quot;&#58;2,&quot;sectionFactor&quot;&#58;6&#125;,&quot;addedFromPersistedData&quot;&#58;true&#125;\"><div data-sp-rte=\"\"><h4><span class=\"fontColorBlueDark\"><strong>WHY use Spatial Analytics tools?</strong></span></h4><p><span><span>Understanding the relationship between spatial, human, and environmental layers in the built environment provides meaningful insights that inform and transform our designs. HKS has developed signature approaches to all three of these layers. This module focuses on understanding the spatial layer. Spatial Analytics tools help designers&#160;understand the relationship between spatial&#160;properties and observed behaviors in space, while connecting these relationships with desired human and operational outcomes. A plethora of evidence in healthcare design suggest that visibility, integration, and proximity of spaces have impacts on staff-related, patient-related, operational, and safety outcomes. Designing for positive impact allows&#160;designers to make evidence-informed design decisions. The set of analytic tools provided in this module quantify the spatial characteristics of interior spaces, which can then&#160;be used to test and evaluate multiple design options&#160;to determine the highest performing departmental or unit layouts.</span></span></p></div></div><div data-sp-canvascontrol=\"\" data-sp-canvasdataversion=\"1.0\" data-sp-controldata=\"&#123;&quot;position&quot;&#58;&#123;&quot;layoutIndex&quot;&#58;1,&quot;zoneIndex&quot;&#58;2,&quot;sectionIndex&quot;&#58;2,&quot;controlIndex&quot;&#58;0.75,&quot;sectionFactor&quot;&#58;6&#125;,&quot;controlType&quot;&#58;3,&quot;id&quot;&#58;&quot;a91c7a07-0499-42d1-8089-120b98eeb3db&quot;,&quot;webPartId&quot;&#58;&quot;2161a1c6-db61-4731-b97c-3cdb303f7cbb&quot;,&quot;addedFromPersistedData&quot;&#58;true,&quot;reservedHeight&quot;&#58;1,&quot;reservedWidth&quot;&#58;570&#125;\"><div data-sp-webpart=\"\" data-sp-webpartdataversion=\"1.1\" data-sp-webpartdata=\"&#123;&quot;id&quot;&#58;&quot;2161a1c6-db61-4731-b97c-3cdb303f7cbb&quot;,&quot;instanceId&quot;&#58;&quot;a91c7a07-0499-42d1-8089-120b98eeb3db&quot;,&quot;title&quot;&#58;&quot;Divider&quot;,&quot;description&quot;&#58;&quot;Add a line to divide areas on your page.&quot;,&quot;audiences&quot;&#58;[],&quot;serverProcessedContent&quot;&#58;&#123;&quot;htmlStrings&quot;&#58;&#123;&#125;,&quot;searchablePlainTexts&quot;&#58;&#123;&#125;,&quot;imageSources&quot;&#58;&#123;&#125;,&quot;links&quot;&#58;&#123;&#125;&#125;,&quot;dataVersion&quot;&#58;&quot;1.1&quot;,&quot;properties&quot;&#58;&#123;&quot;length&quot;&#58;100,&quot;weight&quot;&#58;1&#125;&#125;\"><div data-sp-componentid=\"2161a1c6-db61-4731-b97c-3cdb303f7cbb\"></div><div data-sp-htmlproperties=\"\"></div></div></div><div data-sp-canvascontrol=\"\" data-sp-canvasdataversion=\"1.0\" data-sp-controldata=\"&#123;&quot;controlType&quot;&#58;4,&quot;id&quot;&#58;&quot;63ac7038-c8da-4c59-aca8-5d37e118bf1b&quot;,&quot;position&quot;&#58;&#123;&quot;layoutIndex&quot;&#58;1,&quot;zoneIndex&quot;&#58;2,&quot;sectionIndex&quot;&#58;2,&quot;controlIndex&quot;&#58;2.875,&quot;sectionFactor&quot;&#58;6&#125;,&quot;addedFromPersistedData&quot;&#58;true&#125;\"><div data-sp-rte=\"\"><p><span class=\"fontColorBlueDark\"><span class=\"fontSizeXLarge\"><b>WHO should you engage in the process?</b></span></span></p><p><span><span><span><span>The&#160;tools in this module can be implemented in different phases of the design process as&#160;outlined in the table below. These tools can be used to inform&#160;the layout or configuration of a department or&#160;unit, and require involvement of at least two key members from the design team&#58;</span></span></span></span><br><br></p><ol><li style=\"margin-left&#58;8px;\"><span><span><span><span>A medical planner </span></span></span></span></li><li style=\"margin-left&#58;8px;\"><span><span><span><span>A design professional and/or intern with proficient computational skills (ability to use Rhino and Grasshopper software)</span></span></span></span></li></ol><p><span><span><span><span>The planner should use these tools to test the performance of different&#160;layouts or configurations and&#160;iterate on the design based on the findings. Findings from the analyses can also be used to support an&#160;evidence-informed decision-making process&#160;with the client. The analyses should be run with the help of design professional. Involving interns or forum-level designers in the process is beneficial in engaging emerging professionals in research and developing up-and-coming research champions.</span></span></span></span></p></div></div><div data-sp-canvascontrol=\"\" data-sp-canvasdataversion=\"1.0\" data-sp-controldata=\"&#123;&quot;position&quot;&#58;&#123;&quot;layoutIndex&quot;&#58;1,&quot;zoneIndex&quot;&#58;2.125,&quot;sectionIndex&quot;&#58;1,&quot;controlIndex&quot;&#58;1,&quot;sectionFactor&quot;&#58;12&#125;,&quot;controlType&quot;&#58;3,&quot;id&quot;&#58;&quot;40b44bcd-72eb-4aa4-af83-0fc443429c3d&quot;,&quot;webPartId&quot;&#58;&quot;2161a1c6-db61-4731-b97c-3cdb303f7cbb&quot;,&quot;addedFromPersistedData&quot;&#58;true,&quot;reservedHeight&quot;&#58;1,&quot;reservedWidth&quot;&#58;1188&#125;\"><div data-sp-webpart=\"\" data-sp-webpartdataversion=\"1.1\" data-sp-webpartdata=\"&#123;&quot;id&quot;&#58;&quot;2161a1c6-db61-4731-b97c-3cdb303f7cbb&quot;,&quot;instanceId&quot;&#58;&quot;40b44bcd-72eb-4aa4-af83-0fc443429c3d&quot;,&quot;title&quot;&#58;&quot;Divider&quot;,&quot;description&quot;&#58;&quot;Add a line to divide areas on your page.&quot;,&quot;audiences&quot;&#58;[],&quot;serverProcessedContent&quot;&#58;&#123;&quot;htmlStrings&quot;&#58;&#123;&#125;,&quot;searchablePlainTexts&quot;&#58;&#123;&#125;,&quot;imageSources&quot;&#58;&#123;&#125;,&quot;links&quot;&#58;&#123;&#125;&#125;,&quot;dataVersion&quot;&#58;&quot;1.1&quot;,&quot;properties&quot;&#58;&#123;&quot;length&quot;&#58;100,&quot;weight&quot;&#58;1&#125;&#125;\"><div data-sp-componentid=\"2161a1c6-db61-4731-b97c-3cdb303f7cbb\"></div><div data-sp-htmlproperties=\"\"></div></div></div><div data-sp-canvascontrol=\"\" data-sp-canvasdataversion=\"1.0\" data-sp-controldata=\"&#123;&quot;controlType&quot;&#58;4,&quot;id&quot;&#58;&quot;7de0d665-85e1-48f5-8ab8-e7080a72ca9a&quot;,&quot;position&quot;&#58;&#123;&quot;layoutIndex&quot;&#58;1,&quot;zoneIndex&quot;&#58;2.25,&quot;sectionIndex&quot;&#58;1,&quot;controlIndex&quot;&#58;3,&quot;sectionFactor&quot;&#58;4&#125;,&quot;addedFromPersistedData&quot;&#58;true&#125;\"><div data-sp-rte=\"\"><p><span class=\"fontSizeXLarge\"><span class=\"fontColorBlueDark\"><b>WHEN should you use the Spatial Analytics tool?</b></span></span></p><p><span><span><span><span>In an ideal information-driven design process, spatial analytics tools are leveraged throughout the pre-design, design, and occupancy phases to maintain a feedback loop between design intent and design outcomes. As a project moves through these different stages of design, these tools can be used to continuously test, evaluate, and iterate design options. The intended use and deliverables in each phase are outlined in the table on the right&#58;</span></span></span></span>​​​​​​</p></div></div><div data-sp-canvascontrol=\"\" data-sp-canvasdataversion=\"1.0\" data-sp-controldata=\"&#123;&quot;position&quot;&#58;&#123;&quot;layoutIndex&quot;&#58;1,&quot;zoneIndex&quot;&#58;2.25,&quot;sectionIndex&quot;&#58;2,&quot;controlIndex&quot;&#58;0,&quot;sectionFactor&quot;&#58;8&#125;,&quot;controlType&quot;&#58;3,&quot;id&quot;&#58;&quot;4f9d6a0f-5c25-4092-83fe-365d51194cef&quot;,&quot;webPartId&quot;&#58;&quot;d1d91016-032f-456d-98a4-721247c305e8&quot;,&quot;rteInstanceId&quot;&#58;&quot;f6f9f679-3f36-4248-8941-03d02bf834e5&quot;,&quot;addedFromPersistedData&quot;&#58;true,&quot;reservedHeight&quot;&#58;385,&quot;reservedWidth&quot;&#58;766&#125;\"><div data-sp-webpart=\"\" data-sp-webpartdataversion=\"1.11\" data-sp-webpartdata=\"&#123;&quot;id&quot;&#58;&quot;d1d91016-032f-456d-98a4-721247c305e8&quot;,&quot;instanceId&quot;&#58;&quot;4f9d6a0f-5c25-4092-83fe-365d51194cef&quot;,&quot;title&quot;&#58;&quot;Image&quot;,&quot;description&quot;&#58;&quot;Add an image, picture or photo to your page including text overlays and ability to crop and resize images.&quot;,&quot;audiences&quot;&#58;[],&quot;serverProcessedContent&quot;&#58;&#123;&quot;htmlStrings&quot;&#58;&#123;&#125;,&quot;searchablePlainTexts&quot;&#58;&#123;&#125;,&quot;imageSources&quot;&#58;&#123;&quot;imageSource&quot;&#58;&quot;/sites/SpatialAnalyticsModule/SiteAssets/SitePages/Overview/2230570864-00_AnalysesApplication.jpg&quot;&#125;,&quot;links&quot;&#58;&#123;&#125;,&quot;customMetadata&quot;&#58;&#123;&quot;imageSource&quot;&#58;&#123;&quot;siteId&quot;&#58;&quot;4f2c71a4-c4f3-4908-a1ef-a2475abf141c&quot;,&quot;webId&quot;&#58;&quot;0bf621c8-687f-40b4-9ab9-0ddc9346667e&quot;,&quot;listId&quot;&#58;&quot;62d8431c-b5e8-46cc-9331-c1b17c434bf3&quot;,&quot;uniqueId&quot;&#58;&quot;02ea1347-2ae4-44ae-b25e-f8ad4c6b0b7d&quot;,&quot;width&quot;&#58;2252,&quot;height&quot;&#58;1056&#125;&#125;&#125;,&quot;dataVersion&quot;&#58;&quot;1.11&quot;,&quot;properties&quot;&#58;&#123;&quot;id&quot;&#58;&quot;c0d48394-32b1-4bad-894e-050c781ce0e6&quot;,&quot;linkUrl&quot;&#58;&quot;&quot;,&quot;isInlineImage&quot;&#58;true,&quot;siteId&quot;&#58;&quot;4f2c71a4-c4f3-4908-a1ef-a2475abf141c&quot;,&quot;webId&quot;&#58;&quot;0bf621c8-687f-40b4-9ab9-0ddc9346667e&quot;,&quot;listId&quot;&#58;&quot;62d8431c-b5e8-46cc-9331-c1b17c434bf3&quot;,&quot;uniqueId&quot;&#58;&quot;02ea1347-2ae4-44ae-b25e-f8ad4c6b0b7d&quot;,&quot;imgHeight&quot;&#58;1056,&quot;imgWidth&quot;&#58;2252,&quot;imageSourceType&quot;&#58;2,&quot;alignment&quot;&#58;&quot;Center&quot;,&quot;fileName&quot;&#58;&quot;00_AnalysesApplication.jpg&quot;,&quot;fixAspectRatio&quot;&#58;false,&quot;overlayText&quot;&#58;&quot;&quot;,&quot;altText&quot;&#58;&quot;&quot;&#125;&#125;\"><div data-sp-componentid=\"d1d91016-032f-456d-98a4-721247c305e8\"></div><div data-sp-htmlproperties=\"\"><img data-sp-prop-name=\"imageSource\" src=\"/sites/SpatialAnalyticsModule/SiteAssets/SitePages/Overview/2230570864-00_AnalysesApplication.jpg\" data-sp-cust-siteId=\"4f2c71a4-c4f3-4908-a1ef-a2475abf141c\" data-sp-cust-webId=\"0bf621c8-687f-40b4-9ab9-0ddc9346667e\" data-sp-cust-listId=\"62d8431c-b5e8-46cc-9331-c1b17c434bf3\" data-sp-cust-uniqueId=\"02ea1347-2ae4-44ae-b25e-f8ad4c6b0b7d\" data-sp-cust-width=\"2252\" data-sp-cust-height=\"1056\" /></div></div></div><div data-sp-canvascontrol=\"\" data-sp-canvasdataversion=\"1.0\" data-sp-controldata=\"&#123;&quot;controlType&quot;&#58;4,&quot;id&quot;&#58;&quot;f6f9f679-3f36-4248-8941-03d02bf834e5&quot;,&quot;position&quot;&#58;&#123;&quot;layoutIndex&quot;&#58;1,&quot;zoneIndex&quot;&#58;2.25,&quot;sectionIndex&quot;&#58;2,&quot;controlIndex&quot;&#58;1,&quot;sectionFactor&quot;&#58;8&#125;,&quot;addedFromPersistedData&quot;&#58;true&#125;\"><div data-sp-rte=\"\"><p><br></p><div tabindex=\"-1\" data-cke-widget-wrapper=\"1\" data-cke-filter=\"off\" class=\"cke_widget_wrapper cke_widget_block cke_widget_inlineimage cke_widget_wrapper_webPartInRteInlineImage cke_widget_wrapper_webPartInRteClear cke_widget_wrapper_webPartInRteAlignCenter cke_widget_wrapper_webPartInRte\" data-cke-display-name=\"div\" data-cke-widget-id=\"1\" role=\"region\" aria-label=\"Inline image in RTE. Use Alt + F11 to go to toolbar. Use Alt + P to open the property pane.\"><div data-webpart-id=\"image\" class=\"webPartInRte webPartInRteAlignCenter webPartInRteClear webPartInRteInlineImage cke_widget_element\" data-cke-widget-data=\"%7B%22classes%22%3A%7B%22webPartInRteInlineImage%22%3A1%2C%22webPartInRteClear%22%3A1%2C%22webPartInRteAlignCenter%22%3A1%2C%22webPartInRte%22%3A1%7D%7D\" data-cke-widget-upcasted=\"1\" data-cke-widget-keep-attr=\"0\" data-widget=\"inlineimage\" data-instance-id=\"4f9d6a0f-5c25-4092-83fe-365d51194cef\" title=\"\"></div></div><p>​​​​​​​​​​​​​​</p></div></div><div data-sp-canvascontrol=\"\" data-sp-canvasdataversion=\"1.0\" data-sp-controldata=\"&#123;&quot;position&quot;&#58;&#123;&quot;layoutIndex&quot;&#58;1,&quot;zoneIndex&quot;&#58;2.375,&quot;sectionIndex&quot;&#58;1,&quot;controlIndex&quot;&#58;1,&quot;sectionFactor&quot;&#58;12&#125;,&quot;controlType&quot;&#58;3,&quot;id&quot;&#58;&quot;2491920c-c7b3-471a-98e0-01c12ed10cb2&quot;,&quot;webPartId&quot;&#58;&quot;2161a1c6-db61-4731-b97c-3cdb303f7cbb&quot;,&quot;addedFromPersistedData&quot;&#58;true,&quot;reservedHeight&quot;&#58;1,&quot;reservedWidth&quot;&#58;1188&#125;\"><div data-sp-webpart=\"\" data-sp-webpartdataversion=\"1.1\" data-sp-webpartdata=\"&#123;&quot;id&quot;&#58;&quot;2161a1c6-db61-4731-b97c-3cdb303f7cbb&quot;,&quot;instanceId&quot;&#58;&quot;2491920c-c7b3-471a-98e0-01c12ed10cb2&quot;,&quot;title&quot;&#58;&quot;Divider&quot;,&quot;description&quot;&#58;&quot;Add a line to divide areas on your page.&quot;,&quot;audiences&quot;&#58;[],&quot;serverProcessedContent&quot;&#58;&#123;&quot;htmlStrings&quot;&#58;&#123;&#125;,&quot;searchablePlainTexts&quot;&#58;&#123;&#125;,&quot;imageSources&quot;&#58;&#123;&#125;,&quot;links&quot;&#58;&#123;&#125;&#125;,&quot;dataVersion&quot;&#58;&quot;1.1&quot;,&quot;properties&quot;&#58;&#123;&quot;length&quot;&#58;100,&quot;weight&quot;&#58;1&#125;&#125;\"><div data-sp-componentid=\"2161a1c6-db61-4731-b97c-3cdb303f7cbb\"></div><div data-sp-htmlproperties=\"\"></div></div></div><div data-sp-canvascontrol=\"\" data-sp-canvasdataversion=\"1.0\" data-sp-controldata=\"&#123;&quot;controlType&quot;&#58;4,&quot;id&quot;&#58;&quot;c4bce862-c3da-4d97-a7a1-681ae1ceadaf&quot;,&quot;position&quot;&#58;&#123;&quot;layoutIndex&quot;&#58;1,&quot;zoneIndex&quot;&#58;2.5,&quot;sectionIndex&quot;&#58;1,&quot;controlIndex&quot;&#58;2,&quot;sectionFactor&quot;&#58;6&#125;,&quot;addedFromPersistedData&quot;&#58;true&#125;\"><div data-sp-rte=\"\"><p><span class=\"fontSizeXLarge\"><span class=\"fontColorBlueDark\"><b>HOW to plan for Spatial Analytics&#160;tool?</b></span></span></p><p><br></p><p><span class=\"fontSizeXLargePlus\"><span class=\"fontColorBlueDark\"><b><i>Plan for hours in budget and schedule</i></b></span></span></p><p><span><span><span><span>The number of hours per analysis will depend on the complexity of space and size of the department or&#160;unit. This influences the time required to prepare the drawing for analysis, and the time to run the analysis.</span></span></span></span></p><p><span class=\"fontSizeXLargePlus\"><span class=\"fontColorBlueDark\"><b><i>Identify a dedicated member </i></b></span></span></p><p><span><span><span><span>...who will be in charge of running the analyses and coordinate with the medical planner and the design team</span></span></span></span></p><p><span class=\"fontSizeXLargePlus\"><span class=\"fontColorBlueDark\"><b><i>Schedule intermittent check-ins</i></b></span></span></p><p><span><span><span><span>...with team members to communicate how the analysis is informing the layout configurations.</span></span></span></span>​​​​​​​</p></div></div><div data-sp-canvascontrol=\"\" data-sp-canvasdataversion=\"1.0\" data-sp-controldata=\"&#123;&quot;position&quot;&#58;&#123;&quot;layoutIndex&quot;&#58;1,&quot;zoneIndex&quot;&#58;2.5,&quot;sectionIndex&quot;&#58;2,&quot;controlIndex&quot;&#58;0,&quot;sectionFactor&quot;&#58;6&#125;,&quot;controlType&quot;&#58;3,&quot;id&quot;&#58;&quot;053b814e-ef60-49ba-84d2-bc2829efa908&quot;,&quot;webPartId&quot;&#58;&quot;d1d91016-032f-456d-98a4-721247c305e8&quot;,&quot;rteInstanceId&quot;&#58;&quot;b56824be-d12f-4b33-b548-c0233d5abad1&quot;,&quot;addedFromPersistedData&quot;&#58;true,&quot;reservedHeight&quot;&#58;609,&quot;reservedWidth&quot;&#58;560&#125;\"><div data-sp-webpart=\"\" data-sp-webpartdataversion=\"1.11\" data-sp-webpartdata=\"&#123;&quot;id&quot;&#58;&quot;d1d91016-032f-456d-98a4-721247c305e8&quot;,&quot;instanceId&quot;&#58;&quot;053b814e-ef60-49ba-84d2-bc2829efa908&quot;,&quot;title&quot;&#58;&quot;Image&quot;,&quot;description&quot;&#58;&quot;Add an image, picture or photo to your page including text overlays and ability to crop and resize images.&quot;,&quot;audiences&quot;&#58;[],&quot;serverProcessedContent&quot;&#58;&#123;&quot;htmlStrings&quot;&#58;&#123;&#125;,&quot;searchablePlainTexts&quot;&#58;&#123;&#125;,&quot;imageSources&quot;&#58;&#123;&quot;imageSource&quot;&#58;&quot;/sites/SpatialAnalyticsModule/SiteAssets/SitePages/Overview/2769373548content.jpg&quot;&#125;,&quot;links&quot;&#58;&#123;&#125;,&quot;customMetadata&quot;&#58;&#123;&quot;imageSource&quot;&#58;&#123;&quot;siteId&quot;&#58;&quot;4f2c71a4-c4f3-4908-a1ef-a2475abf141c&quot;,&quot;webId&quot;&#58;&quot;0bf621c8-687f-40b4-9ab9-0ddc9346667e&quot;,&quot;listId&quot;&#58;&quot;62d8431c-b5e8-46cc-9331-c1b17c434bf3&quot;,&quot;uniqueId&quot;&#58;&quot;8e9806d1-5df8-47be-9e13-544dc825d3c7&quot;,&quot;width&quot;&#58;960,&quot;height&quot;&#58;1154&#125;&#125;&#125;,&quot;dataVersion&quot;&#58;&quot;1.11&quot;,&quot;properties&quot;&#58;&#123;&quot;id&quot;&#58;&quot;7e09ec4f-2627-4312-9c28-b3bacd0cb760&quot;,&quot;linkUrl&quot;&#58;&quot;&quot;,&quot;isInlineImage&quot;&#58;true,&quot;siteId&quot;&#58;&quot;4f2c71a4-c4f3-4908-a1ef-a2475abf141c&quot;,&quot;webId&quot;&#58;&quot;0bf621c8-687f-40b4-9ab9-0ddc9346667e&quot;,&quot;listId&quot;&#58;&quot;62d8431c-b5e8-46cc-9331-c1b17c434bf3&quot;,&quot;uniqueId&quot;&#58;&quot;8e9806d1-5df8-47be-9e13-544dc825d3c7&quot;,&quot;imgHeight&quot;&#58;1154,&quot;imgWidth&quot;&#58;960,&quot;imageSourceType&quot;&#58;2,&quot;alignment&quot;&#58;&quot;Center&quot;,&quot;fileName&quot;&#58;&quot;2769373548content.jpg&quot;,&quot;fixAspectRatio&quot;&#58;false,&quot;overlayText&quot;&#58;&quot;&quot;,&quot;altText&quot;&#58;&quot;&quot;,&quot;resizeCoefficient&quot;&#58;0.95663600525624182,&quot;resizeDesiredWidth&quot;&#58;485.33333333333337&#125;&#125;\"><div data-sp-componentid=\"d1d91016-032f-456d-98a4-721247c305e8\"></div><div data-sp-htmlproperties=\"\"><img data-sp-prop-name=\"imageSource\" src=\"/sites/SpatialAnalyticsModule/SiteAssets/SitePages/Overview/2769373548content.jpg\" data-sp-cust-siteId=\"4f2c71a4-c4f3-4908-a1ef-a2475abf141c\" data-sp-cust-webId=\"0bf621c8-687f-40b4-9ab9-0ddc9346667e\" data-sp-cust-listId=\"62d8431c-b5e8-46cc-9331-c1b17c434bf3\" data-sp-cust-uniqueId=\"8e9806d1-5df8-47be-9e13-544dc825d3c7\" data-sp-cust-width=\"960\" data-sp-cust-height=\"1154\" /></div></div></div><div data-sp-canvascontrol=\"\" data-sp-canvasdataversion=\"1.0\" data-sp-controldata=\"&#123;&quot;controlType&quot;&#58;4,&quot;id&quot;&#58;&quot;b56824be-d12f-4b33-b548-c0233d5abad1&quot;,&quot;position&quot;&#58;&#123;&quot;layoutIndex&quot;&#58;1,&quot;zoneIndex&quot;&#58;2.5,&quot;sectionIndex&quot;&#58;2,&quot;controlIndex&quot;&#58;2,&quot;sectionFactor&quot;&#58;6&#125;,&quot;addedFromPersistedData&quot;&#58;true&#125;\"><div data-sp-rte=\"\"><div tabindex=\"-1\" data-cke-widget-wrapper=\"1\" data-cke-filter=\"off\" class=\"cke_widget_wrapper cke_widget_block cke_widget_inlineimage cke_widget_wrapper_webPartInRteInlineImage cke_widget_wrapper_webPartInRteClear cke_widget_wrapper_webPartInRteAlignCenter cke_widget_wrapper_webPartInRte\" data-cke-display-name=\"div\" data-cke-widget-id=\"1\" role=\"region\" aria-label=\"Inline image in RTE. Use Alt + F11 to go to toolbar. Use Alt + P to open the property pane.\"><div title=\"\" data-instance-id=\"053b814e-ef60-49ba-84d2-bc2829efa908\" data-widget=\"inlineimage\" data-cke-widget-keep-attr=\"0\" data-cke-widget-upcasted=\"1\" data-cke-widget-data=\"%7B%22classes%22%3A%7B%22webPartInRteInlineImage%22%3A1%2C%22webPartInRteClear%22%3A1%2C%22webPartInRteAlignCenter%22%3A1%2C%22webPartInRte%22%3A1%7D%7D\" class=\"webPartInRte webPartInRteClear webPartInRteInlineImage cke_widget_element webPartInRteAlignCenter\" data-webpart-id=\"image\"></div></div><p>​​</p><p><br></p></div></div><div data-sp-canvascontrol=\"\" data-sp-canvasdataversion=\"1.0\" data-sp-controldata=\"&#123;&quot;controlType&quot;&#58;0,&quot;pageSettingsSlice&quot;&#58;&#123;&quot;isDefaultDescription&quot;&#58;true,&quot;isDefaultThumbnail&quot;&#58;true,&quot;isSpellCheckEnabled&quot;&#58;true,&quot;globalRichTextStylingVersion&quot;&#58;0&#125;&#125;\"></div></div>\n"
     ]
    }
   ],
   "source": [
    "from office365.runtime.auth.user_credential import UserCredential\n",
    "from office365.sharepoint.client_context import ClientContext\n",
    "from office365.sharepoint.webs.web import Web\n",
    "from office365.sharepoint.files.system_object_type import FileSystemObjectType\n",
    "site_url = \"https://hksinc.sharepoint.com/sites/SpatialAnalyticsModule\"\n",
    "ctx = ClientContext(site_url).with_credentials(userCredential)\n",
    "web = ctx.web\n",
    "ctx.load(web)\n",
    "ctx.execute_query()\n",
    "print(\"Web title: {0}\".format(web.properties['Title']))\n",
    "file = ctx.web.get_file_by_server_relative_url(\"/sites/SpatialAnalyticsModule/SitePages/Overview.aspx\")\n",
    "file_item = file.listItemAllFields.select([\"CanvasContent1\", \"LayoutWebpartsContent\"]).get().execute_query()\n",
    "print(file_item.properties.get(\"CanvasContent1\"))\n",
    "\n",
    "\n"
   ]
  },
  {
   "cell_type": "code",
   "execution_count": 69,
   "metadata": {},
   "outputs": [
    {
     "name": "stdout",
     "output_type": "stream",
     "text": [
      "(File): /sites/SpatialAnalyticsModule/Shared Documents/02_PhotoEssay_On-Site Documentation_Example.pdf\n",
      "(File): /sites/SpatialAnalyticsModule/Shared Documents/05_Interviews_Documentation Example.pdf\n",
      "(File): /sites/SpatialAnalyticsModule/Shared Documents/Visibility-and-Integration.mp4\n",
      "(File): /sites/SpatialAnalyticsModule/Shared Documents/Proximity-Analysis.mp4\n",
      "(File): /sites/SpatialAnalyticsModule/Shared Documents/Travel-Distance-Analysis.mp4\n",
      "(File): /sites/SpatialAnalyticsModule/Shared Documents/_zip_Spatial Analytics Resources and Templates Folder.zip\n"
     ]
    }
   ],
   "source": [
    "doc_lib = ctx.web.lists.get_by_title(\"Documents\")\n",
    "items = doc_lib.items.select([\"FileSystemObjectType\"]).expand([\"File\", \"Folder\"]).get().execute_query()\n",
    "for item in items:  # type: ListItem\n",
    "    if item.file_system_object_type == FileSystemObjectType.Folder:\n",
    "        print(\"(Folder): {0}\".format(item.folder.serverRelativeUrl))\n",
    "    else:\n",
    "        print(\"(File): {0}\".format(item.file.serverRelativeUrl))"
   ]
  },
  {
   "cell_type": "code",
   "execution_count": 70,
   "metadata": {},
   "outputs": [
    {
     "name": "stdout",
     "output_type": "stream",
     "text": [
      "11\n",
      "Home.aspx\n",
      "Overview.aspx\n",
      "Process.aspx\n",
      "Synthesis-and-Documentation.aspx\n",
      "Data.aspx\n",
      "Fulcrum.aspx\n",
      "Annotated-Plan.aspx\n",
      "Photo-Essay.aspx\n",
      "Shadowing.aspx\n",
      "Behavior-Mapping.aspx\n",
      "Interviewing.aspx\n"
     ]
    }
   ],
   "source": [
    "#list pages relative to site_url\n",
    "site_pages = ctx.site_pages.pages.get().execute_query()\n",
    "\n",
    "print(len(site_pages))\n",
    "for site_page in site_pages:  # type: SitePage\n",
    "    print(site_page.file_name)\n",
    "    \n",
    "    "
   ]
  }
 ],
 "metadata": {
  "kernelspec": {
   "display_name": "env",
   "language": "python",
   "name": "python3"
  },
  "language_info": {
   "codemirror_mode": {
    "name": "ipython",
    "version": 3
   },
   "file_extension": ".py",
   "mimetype": "text/x-python",
   "name": "python",
   "nbconvert_exporter": "python",
   "pygments_lexer": "ipython3",
   "version": "3.10.6"
  },
  "orig_nbformat": 4
 },
 "nbformat": 4,
 "nbformat_minor": 2
}
