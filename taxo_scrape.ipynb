{
 "cells": [
  {
   "cell_type": "code",
   "execution_count": 1,
   "metadata": {},
   "outputs": [],
   "source": [
    "#set up credentials + imports\n",
    "from office365.runtime.auth.user_credential import UserCredential\n",
    "from office365.sharepoint.client_context import ClientContext\n",
    "from office365.sharepoint.client_context import ClientContext\n",
    "from office365.sharepoint.files.system_object_type import FileSystemObjectType\n",
    "import os\n",
    "from dotenv import load_dotenv\n",
    "\n",
    "#set up credentials\n",
    "load_dotenv(\".env\", override=True)\n",
    "userCredential = UserCredential(os.getenv('user'),os.getenv('password') )"
   ]
  },
  {
   "cell_type": "code",
   "execution_count": 3,
   "metadata": {},
   "outputs": [],
   "source": [
    "from office365.sharepoint.taxonomy.field import TaxonomyField\n",
    "\n",
    "def list_taxonomy_fields(itemlist):\n",
    "    fields = itemlist.fields.get().execute_query()\n",
    "    #get all fields\n",
    "    taxonomy_fields = []\n",
    "    for f in fields:  # type: Field\n",
    "        #find only taxonomy types\n",
    "        if type(f) is TaxonomyField:\n",
    "            taxonomy_fields.append(f)\n",
    "    return taxonomy_fields"
   ]
  },
  {
   "cell_type": "code",
   "execution_count": 6,
   "metadata": {},
   "outputs": [],
   "source": [
    "\n",
    "def getalllists(ctx):\n",
    "    lists = ctx.web.lists.get_all().execute_query()\n",
    "    #print(lists)\n",
    "    return lists"
   ]
  },
  {
   "cell_type": "code",
   "execution_count": 98,
   "metadata": {},
   "outputs": [],
   "source": [
    "import json\n",
    "def query_items_byfield(target_list, tax_field, baseurl):\n",
    "    \"\"\"\n",
    "    :type target_list: office365.sharepoint.lists.list.List\n",
    "    \"\"\"\n",
    "    \n",
    "    #https://hksinc.sharepoint.com/sites/research/Shared%20Documents/ + LinkFilename is url\n",
    "    items = target_list.items.get().select([\"LinkFilename\", tax_field.internal_name]).execute_query() #tax_field.internal_name, \n",
    "    for t in items:\n",
    "            \n",
    "        if {} not in t.properties.values():\n",
    "            #json_object = json.dumps(t.properties) \n",
    "            t.properties['baseurl'] = baseurl\n",
    "            with open(\"taxo/sample.json\", \"a\") as outfile:\n",
    "                json.dump(t.properties, outfile, ensure_ascii=False)\n",
    "                outfile.write('\\n')"
   ]
  },
  {
   "cell_type": "code",
   "execution_count": 99,
   "metadata": {},
   "outputs": [
    {
     "name": "stdout",
     "output_type": "stream",
     "text": [
      "https://hksinc.sharepoint.com/sites/research\n",
      "https://hksinc.sharepoint.com/sites/Energy\n",
      "https://hksinc.sharepoint.com/sites/EnergyModeling\n",
      "https://hksinc.sharepoint.com/sites/EquitableCommunities\n",
      "https://hksinc.sharepoint.com/sites/EquityinEducation\n",
      "https://hksinc.sharepoint.com/sites/Flexibility\n",
      "https://hksinc.sharepoint.com/sites/Gender\n",
      "https://hksinc.sharepoint.com/sites/GIS\n",
      "https://hksinc.sharepoint.com/sites/HealthandArt\n",
      "https://hksinc.sharepoint.com/sites/HealthcareWorkers\n",
      "https://hksinc.sharepoint.com/sites/Healthy\n",
      "https://hksinc.sharepoint.com/sites/HealthyEnvironments\n",
      "https://hksinc.sharepoint.com/sites/hpd\n",
      "https://hksinc.sharepoint.com/sites/InclusiveDesign\n",
      "https://hksinc.sharepoint.com/sites/JEDI\n",
      "https://hksinc.sharepoint.com/sites/LeadingWithKnowledge\n",
      "https://hksinc.sharepoint.com/sites/MassTimber\n",
      "https://hksinc.sharepoint.com/sites/Materials/\n",
      "https://hksinc.sharepoint.com/sites/MBH\n",
      "https://hksinc.sharepoint.com/sites/natureofplace\n",
      "https://hksinc.sharepoint.com/sites/OccupancyEvaluation\n",
      "https://hksinc.sharepoint.com/sites/Resilience\n",
      "https://hksinc.sharepoint.com/sites/Resources\n",
      "https://hksinc.sharepoint.com/sites/SensoryDesign\n",
      "https://hksinc.sharepoint.com/sites/Smart\n",
      "https://hksinc.sharepoint.com/sites/SocialHealth\n",
      "https://hksinc.sharepoint.com/sites/Telehealth\n",
      "https://hksinc.sharepoint.com/sites/Wellbeing\n",
      "https://hksinc.sharepoint.com/sites/Work\n"
     ]
    }
   ],
   "source": [
    "import pandas as pd\n",
    "#read from csv, clean and filter\n",
    "sitesdf= pd.read_csv(\"knowledgesites.csv\",keep_default_na=False)\n",
    "\n",
    "#iterate sites        \n",
    "for index, row in sitesdf.iterrows():\n",
    "    site_url = row[\"url\"]\n",
    "    print(site_url)\n",
    "    ctx = ClientContext(site_url).with_credentials(userCredential)\n",
    "    try :\n",
    "        lists = getalllists(ctx)\n",
    "    except :\n",
    "        continue\n",
    "    for l in lists:\n",
    "        itemlist = ctx.web.lists.get_by_title(l.title) #Research Contribution Library\n",
    "\n",
    "        tax_fields = list_taxonomy_fields(itemlist)\n",
    "        if(len(tax_fields)>0):\n",
    "            folder = itemlist.root_folder.expand([\"ServerRelativeURL\"]).get().execute_query()\n",
    "            baseurl = \"https://hksinc.sharepoint.com/\" + folder.serverRelativeUrl\n",
    "            for t in tax_fields:\n",
    "                \n",
    "                query_items_byfield(itemlist, t, baseurl) \n",
    "           \n",
    "           "
   ]
  }
 ],
 "metadata": {
  "kernelspec": {
   "display_name": "env",
   "language": "python",
   "name": "python3"
  },
  "language_info": {
   "codemirror_mode": {
    "name": "ipython",
    "version": 3
   },
   "file_extension": ".py",
   "mimetype": "text/x-python",
   "name": "python",
   "nbconvert_exporter": "python",
   "pygments_lexer": "ipython3",
   "version": "3.10.6"
  },
  "orig_nbformat": 4
 },
 "nbformat": 4,
 "nbformat_minor": 2
}
