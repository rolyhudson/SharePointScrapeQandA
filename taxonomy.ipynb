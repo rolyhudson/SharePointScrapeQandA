{
 "cells": [
  {
   "cell_type": "code",
   "execution_count": 6,
   "metadata": {},
   "outputs": [],
   "source": [
    "#set up credentials + imports\n",
    "from office365.runtime.auth.user_credential import UserCredential\n",
    "from office365.sharepoint.client_context import ClientContext\n",
    "from office365.sharepoint.client_context import ClientContext\n",
    "from office365.sharepoint.files.system_object_type import FileSystemObjectType\n",
    "import os\n",
    "from dotenv import load_dotenv\n",
    "\n",
    "#set up credentials\n",
    "load_dotenv(\".env\", override=True)\n",
    "userCredential = UserCredential(os.getenv('user'),os.getenv('password') )"
   ]
  },
  {
   "cell_type": "code",
   "execution_count": 7,
   "metadata": {},
   "outputs": [],
   "source": [
    "import json\n",
    "\n",
    "from office365.sharepoint.taxonomy.group import TermGroup\n",
    "\n",
    "def print_taxonomy(ctx):\n",
    "    term_groups = ctx.taxonomy.term_store.term_groups.get_all().execute_query()\n",
    "    for term_group in term_groups:  # type: TermGroup\n",
    "        term_sets = term_group.term_sets.get_all().execute_query()\n",
    "        print(json.dumps(term_sets.to_json(), indent=4))"
   ]
  },
  {
   "cell_type": "code",
   "execution_count": 10,
   "metadata": {},
   "outputs": [
    {
     "ename": "ClientRequestException",
     "evalue": "('notAllowed', 'OAuth only flow is enabled and the call has not been issued from an app.', '403 Client Error: Forbidden for url: https://hksinc.sharepoint.com/sites/EnergyModeling/_api/v2.1/termStore/termGroups')",
     "output_type": "error",
     "traceback": [
      "\u001b[1;31m---------------------------------------------------------------------------\u001b[0m",
      "\u001b[1;31mHTTPError\u001b[0m                                 Traceback (most recent call last)",
      "File \u001b[1;32mc:\\Users\\rhudson\\source\\repos\\sharescrape\\env\\lib\\site-packages\\office365\\runtime\\client_request.py:58\u001b[0m, in \u001b[0;36mClientRequest.execute_query\u001b[1;34m(self, query)\u001b[0m\n\u001b[0;32m     57\u001b[0m response \u001b[39m=\u001b[39m \u001b[39mself\u001b[39m\u001b[39m.\u001b[39mexecute_request_direct(request)\n\u001b[1;32m---> 58\u001b[0m response\u001b[39m.\u001b[39;49mraise_for_status()\n\u001b[0;32m     59\u001b[0m \u001b[39mself\u001b[39m\u001b[39m.\u001b[39mprocess_response(response, query)\n",
      "File \u001b[1;32mc:\\Users\\rhudson\\source\\repos\\sharescrape\\env\\lib\\site-packages\\requests\\models.py:1021\u001b[0m, in \u001b[0;36mResponse.raise_for_status\u001b[1;34m(self)\u001b[0m\n\u001b[0;32m   1020\u001b[0m \u001b[39mif\u001b[39;00m http_error_msg:\n\u001b[1;32m-> 1021\u001b[0m     \u001b[39mraise\u001b[39;00m HTTPError(http_error_msg, response\u001b[39m=\u001b[39m\u001b[39mself\u001b[39m)\n",
      "\u001b[1;31mHTTPError\u001b[0m: 403 Client Error: Forbidden for url: https://hksinc.sharepoint.com/sites/EnergyModeling/_api/v2.1/termStore/termGroups",
      "\nDuring handling of the above exception, another exception occurred:\n",
      "\u001b[1;31mClientRequestException\u001b[0m                    Traceback (most recent call last)",
      "Cell \u001b[1;32mIn[10], line 15\u001b[0m\n\u001b[0;32m     13\u001b[0m \u001b[39mexcept\u001b[39;00m :\n\u001b[0;32m     14\u001b[0m      \u001b[39mcontinue\u001b[39;00m\n\u001b[1;32m---> 15\u001b[0m print_taxonomy(ctx)\n",
      "Cell \u001b[1;32mIn[7], line 6\u001b[0m, in \u001b[0;36mprint_taxonomy\u001b[1;34m(ctx)\u001b[0m\n\u001b[0;32m      5\u001b[0m \u001b[39mdef\u001b[39;00m \u001b[39mprint_taxonomy\u001b[39m(ctx):\n\u001b[1;32m----> 6\u001b[0m     term_groups \u001b[39m=\u001b[39m ctx\u001b[39m.\u001b[39;49mtaxonomy\u001b[39m.\u001b[39;49mterm_store\u001b[39m.\u001b[39;49mterm_groups\u001b[39m.\u001b[39;49mget_all()\u001b[39m.\u001b[39;49mexecute_query()\n\u001b[0;32m      7\u001b[0m     \u001b[39mfor\u001b[39;00m term_group \u001b[39min\u001b[39;00m term_groups:  \u001b[39m# type: TermGroup\u001b[39;00m\n\u001b[0;32m      8\u001b[0m         term_sets \u001b[39m=\u001b[39m term_group\u001b[39m.\u001b[39mterm_sets\u001b[39m.\u001b[39mget_all()\u001b[39m.\u001b[39mexecute_query()\n",
      "File \u001b[1;32mc:\\Users\\rhudson\\source\\repos\\sharescrape\\env\\lib\\site-packages\\office365\\runtime\\client_object.py:44\u001b[0m, in \u001b[0;36mClientObject.execute_query\u001b[1;34m(self)\u001b[0m\n\u001b[0;32m     38\u001b[0m \u001b[39mdef\u001b[39;00m \u001b[39mexecute_query\u001b[39m(\u001b[39mself\u001b[39m):\n\u001b[0;32m     39\u001b[0m \u001b[39m    \u001b[39m\u001b[39m\"\"\"\u001b[39;00m\n\u001b[0;32m     40\u001b[0m \u001b[39m    Submit request(s) to the server\u001b[39;00m\n\u001b[0;32m     41\u001b[0m \n\u001b[0;32m     42\u001b[0m \u001b[39m    :type self: T\u001b[39;00m\n\u001b[0;32m     43\u001b[0m \u001b[39m    \"\"\"\u001b[39;00m\n\u001b[1;32m---> 44\u001b[0m     \u001b[39mself\u001b[39;49m\u001b[39m.\u001b[39;49mcontext\u001b[39m.\u001b[39;49mexecute_query()\n\u001b[0;32m     45\u001b[0m     \u001b[39mreturn\u001b[39;00m \u001b[39mself\u001b[39m\n",
      "File \u001b[1;32mc:\\Users\\rhudson\\source\\repos\\sharescrape\\env\\lib\\site-packages\\office365\\runtime\\client_runtime_context.py:161\u001b[0m, in \u001b[0;36mClientRuntimeContext.execute_query\u001b[1;34m(self)\u001b[0m\n\u001b[0;32m    159\u001b[0m \u001b[39mwhile\u001b[39;00m \u001b[39mself\u001b[39m\u001b[39m.\u001b[39mhas_pending_request:\n\u001b[0;32m    160\u001b[0m     qry \u001b[39m=\u001b[39m \u001b[39mself\u001b[39m\u001b[39m.\u001b[39m_get_next_query()\n\u001b[1;32m--> 161\u001b[0m     \u001b[39mself\u001b[39;49m\u001b[39m.\u001b[39;49mpending_request()\u001b[39m.\u001b[39;49mexecute_query(qry)\n",
      "File \u001b[1;32mc:\\Users\\rhudson\\source\\repos\\sharescrape\\env\\lib\\site-packages\\office365\\runtime\\client_request.py:62\u001b[0m, in \u001b[0;36mClientRequest.execute_query\u001b[1;34m(self, query)\u001b[0m\n\u001b[0;32m     60\u001b[0m     \u001b[39mself\u001b[39m\u001b[39m.\u001b[39mafterExecute\u001b[39m.\u001b[39mnotify(response)\n\u001b[0;32m     61\u001b[0m \u001b[39mexcept\u001b[39;00m HTTPError \u001b[39mas\u001b[39;00m e:\n\u001b[1;32m---> 62\u001b[0m     \u001b[39mraise\u001b[39;00m ClientRequestException(\u001b[39m*\u001b[39me\u001b[39m.\u001b[39margs, response\u001b[39m=\u001b[39me\u001b[39m.\u001b[39mresponse)\n",
      "\u001b[1;31mClientRequestException\u001b[0m: ('notAllowed', 'OAuth only flow is enabled and the call has not been issued from an app.', '403 Client Error: Forbidden for url: https://hksinc.sharepoint.com/sites/EnergyModeling/_api/v2.1/termStore/termGroups')"
     ]
    }
   ],
   "source": [
    "import pandas as pd\n",
    "#read from csv, clean and filter\n",
    "sitesdf= pd.read_csv(\"knowledgesites.csv\",keep_default_na=False)\n",
    "#iterate sites        \n",
    "for index, row in sitesdf.iterrows():\n",
    "    site_url = row[\"url\"]\n",
    "    \n",
    "    ctx = ClientContext(site_url.strip()).with_credentials(userCredential)\n",
    "    web = ctx.web\n",
    "    ctx.load(web)\n",
    "    try :\n",
    "        ctx.execute_query()\n",
    "    except :\n",
    "         continue\n",
    "    print_taxonomy(ctx)"
   ]
  }
 ],
 "metadata": {
  "kernelspec": {
   "display_name": "env",
   "language": "python",
   "name": "python3"
  },
  "language_info": {
   "codemirror_mode": {
    "name": "ipython",
    "version": 3
   },
   "file_extension": ".py",
   "mimetype": "text/x-python",
   "name": "python",
   "nbconvert_exporter": "python",
   "pygments_lexer": "ipython3",
   "version": "3.10.6"
  },
  "orig_nbformat": 4
 },
 "nbformat": 4,
 "nbformat_minor": 2
}
